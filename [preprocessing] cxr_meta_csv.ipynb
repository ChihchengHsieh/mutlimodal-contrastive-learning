{
 "cells": [
  {
   "cell_type": "code",
   "execution_count": 1,
   "metadata": {},
   "outputs": [],
   "source": [
    "import os\n",
    "import math\n",
    "\n",
    "from datasets import paths\n",
    "from tqdm.notebook import tqdm\n",
    "\n",
    "import warnings\n",
    "import pandas as pd\n",
    "pd.options.mode.chained_assignment = None  # default='warn'\n",
    "warnings.filterwarnings(\"ignore\")"
   ]
  },
  {
   "cell_type": "code",
   "execution_count": 2,
   "metadata": {},
   "outputs": [],
   "source": [
    "PHYSIONET_PATH = os.path.join(paths.PHYSIONET_PATH, \"files\")\n",
    "CXR_JPG_FOLDER_PATH = os.path.join(PHYSIONET_PATH, \"mimic-cxr-jpg\", \"2.0.0\")\n",
    "MIMICIV_FOLDER_PATH = os.path.join(PHYSIONET_PATH, \"mimiciv\", \"2.0\")\n",
    "ED_FOLDER_PATH = os.path.join(PHYSIONET_PATH, \"mimic-iv-ed\", \"2.0\", \"ed\")\n",
    "HOSP_FOLDER_PATH = os.path.join(MIMICIV_FOLDER_PATH, \"hosp\")\n",
    "\n",
    "CXR_meta_df = pd.read_csv(os.path.join(CXR_JPG_FOLDER_PATH, \"mimic-cxr-2.0.0-metadata.csv.gz\"),\n",
    "                          compression='gzip', header=0, sep=',', quotechar='\"')\n",
    "hosp_patients_df = pd.read_csv(os.path.join(\n",
    "    HOSP_FOLDER_PATH,  \"patients.csv.gz\"))\n",
    "ed_triage_df = pd.read_csv(os.path.join(ED_FOLDER_PATH, \"triage.csv.gz\"))\n",
    "ed_edstays_df = pd.read_csv(os.path.join(ED_FOLDER_PATH, \"edstays.csv.gz\"))"
   ]
  },
  {
   "cell_type": "code",
   "execution_count": 3,
   "metadata": {},
   "outputs": [],
   "source": [
    "def time_string_to_float(x):\n",
    "    '''\n",
    "    Use `transfer_id`` to identify.\n",
    "    '''\n",
    "    return float('inf') if type(x) is float and math.isnan(x) else float(x.replace(\"-\", \"\").replace(\"/\", \"\").replace(\" \", \"\").replace(\":\", \"\"))"
   ]
  },
  {
   "cell_type": "code",
   "execution_count": 4,
   "metadata": {},
   "outputs": [
    {
     "data": {
      "application/vnd.jupyter.widget-view+json": {
       "model_id": "8a099b3c82394af9bf0cbaf5547beed0",
       "version_major": 2,
       "version_minor": 0
      },
      "text/plain": [
       "  0%|          | 0/377110 [00:00<?, ?it/s]"
      ]
     },
     "metadata": {},
     "output_type": "display_data"
    }
   ],
   "source": [
    "# Create studyDateTime for identifying stay_id.\n",
    "CXR_meta_df['StudyDateTime'] = [float(str(d) + str(t))\n",
    "                                for d, t in zip(CXR_meta_df['StudyDate'], CXR_meta_df['StudyTime'])]\n",
    "\n",
    "# Initialise stay_id\n",
    "CXR_meta_df['stay_id'] = None\n",
    "\n",
    "cxr_cannot_find_stay = []\n",
    "\n",
    "ed_edstays_df['intime_float'] = ed_edstays_df.intime.apply(\n",
    "    time_string_to_float)\n",
    "ed_edstays_df['outtime_float'] = ed_edstays_df.outtime.apply(\n",
    "    time_string_to_float)\n",
    "\n",
    "with tqdm(total=len(CXR_meta_df)) as pbar:\n",
    "    for idx, cxr_meta_instance in CXR_meta_df.iterrows():\n",
    "        dicom_id = cxr_meta_instance['dicom_id']\n",
    "\n",
    "        study_time = cxr_meta_instance[\"StudyDateTime\"]\n",
    "\n",
    "        ed_stay_time_match = ed_edstays_df[\n",
    "            (ed_edstays_df.subject_id == cxr_meta_instance.subject_id)\n",
    "        ]\n",
    "\n",
    "        if (len(ed_stay_time_match) > 0):\n",
    "            ed_stay_time_match = ed_stay_time_match[\n",
    "                (ed_stay_time_match.intime_float < study_time) &\n",
    "                (ed_stay_time_match.outtime_float > study_time)\n",
    "            ]\n",
    "\n",
    "        if (len(ed_stay_time_match) == 1):\n",
    "            stay_id = ed_stay_time_match.iloc[0]['stay_id']\n",
    "            CXR_meta_df.at[idx, \"stay_id\"] = stay_id\n",
    "        else:\n",
    "            # print(f\"Having problem with {dicom_id} CXR iamge, it has {len(ed_stay_time_match)} matches.\")\n",
    "            cxr_cannot_find_stay.append(cxr_meta_instance)\n",
    "\n",
    "        pbar.update(1)\n",
    "\n",
    "CXR_meta_df.to_csv(\"./spreadsheets/cxr_meta.csv\")\n",
    "\n",
    "CXR_meta_df = CXR_meta_df[CXR_meta_df['stay_id'].notnull()  & (CXR_meta_df['ViewPosition'].isin([\"PA\", \"AP\"]))]\n",
    "CXR_meta_df.to_csv(\"./spreadsheets/cxr_meta_stayId.csv\")"
   ]
  },
  {
   "cell_type": "code",
   "execution_count": 2,
   "metadata": {},
   "outputs": [],
   "source": [
    "df = pd.read_csv(\"./spreadsheets/cxr_meta_stayId.csv\")"
   ]
  },
  {
   "cell_type": "code",
   "execution_count": 4,
   "metadata": {},
   "outputs": [
    {
     "data": {
      "text/plain": [
       "Index(['Unnamed: 0', 'dicom_id', 'subject_id', 'study_id',\n",
       "       'PerformedProcedureStepDescription', 'ViewPosition', 'Rows', 'Columns',\n",
       "       'StudyDate', 'StudyTime', 'ProcedureCodeSequence_CodeMeaning',\n",
       "       'ViewCodeSequence_CodeMeaning',\n",
       "       'PatientOrientationCodeSequence_CodeMeaning', 'StudyDateTime',\n",
       "       'stay_id'],\n",
       "      dtype='object')"
      ]
     },
     "execution_count": 4,
     "metadata": {},
     "output_type": "execute_result"
    }
   ],
   "source": [
    "df.columns"
   ]
  },
  {
   "cell_type": "code",
   "execution_count": null,
   "metadata": {},
   "outputs": [],
   "source": []
  }
 ],
 "metadata": {
  "kernelspec": {
   "display_name": "pytorch",
   "language": "python",
   "name": "python3"
  },
  "language_info": {
   "codemirror_mode": {
    "name": "ipython",
    "version": 3
   },
   "file_extension": ".py",
   "mimetype": "text/x-python",
   "name": "python",
   "nbconvert_exporter": "python",
   "pygments_lexer": "ipython3",
   "version": "3.9.18"
  },
  "orig_nbformat": 4
 },
 "nbformat": 4,
 "nbformat_minor": 2
}
