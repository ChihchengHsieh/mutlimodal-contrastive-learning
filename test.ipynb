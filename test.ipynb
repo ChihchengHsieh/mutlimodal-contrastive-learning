{
 "cells": [
  {
   "cell_type": "code",
   "execution_count": 14,
   "metadata": {},
   "outputs": [],
   "source": [
    "import torch\n",
    "from torch import nn"
   ]
  },
  {
   "cell_type": "code",
   "execution_count": 6,
   "metadata": {},
   "outputs": [],
   "source": [
    "a= [3, 5, 6]"
   ]
  },
  {
   "cell_type": "code",
   "execution_count": 15,
   "metadata": {},
   "outputs": [],
   "source": [
    "x = torch.randn(6,6)"
   ]
  },
  {
   "cell_type": "code",
   "execution_count": 19,
   "metadata": {},
   "outputs": [
    {
     "data": {
      "text/plain": [
       "0"
      ]
     },
     "execution_count": 19,
     "metadata": {},
     "output_type": "execute_result"
    }
   ],
   "source": [
    "x[:, 6:].shape[1]"
   ]
  },
  {
   "cell_type": "code",
   "execution_count": 3,
   "metadata": {},
   "outputs": [],
   "source": [
    "class CLIPLoss(nn.Module):\n",
    "    \"\"\"\n",
    "    Loss function for multimodal contrastive learning based off of the CLIP paper.\n",
    "    Embeddings are taken, L2 normalized and dot product between modalities is calculated to generate a cosine\n",
    "    similarity between all combinations of subjects in a cross-modal fashion. Tempered by temperature.\n",
    "    Loss is calculated attempting to match each subject's embeddings between the modalities i.e. the diagonal.\n",
    "    \"\"\"\n",
    "    def __init__(self, temperature: float, lambda_0: float = 0.5) -> None:\n",
    "        super(CLIPLoss, self).__init__()\n",
    "\n",
    "        self.temperature = temperature\n",
    "        self.cross_entropy = nn.CrossEntropyLoss(reduction=\"mean\")\n",
    "\n",
    "        if lambda_0 > 1 or lambda_0 < 0:\n",
    "            raise ValueError(\"lambda_0 must be a float between 0 and 1.\")\n",
    "        self.lambda_0 = lambda_0\n",
    "        self.lambda_1 = 1 - lambda_0\n",
    "\n",
    "    def forward(self, out0: torch.Tensor, out1: torch.Tensor):\n",
    "        # normalize the embedding onto the unit hypersphere\n",
    "        out0 = nn.functional.normalize(out0, dim=1)\n",
    "        out1 = nn.functional.normalize(out1, dim=1)\n",
    "\n",
    "        # logits = torch.matmul(out0, out1.T) * torch.exp(torch.tensor(self.temperature))\n",
    "        # the cosine similarity function is (A \\dot B) / ||A|| ||B||, since ||A|| = ||B|| = 1, we only need to calculate the molecular term.\n",
    "        logits = torch.matmul(out0, out1.T) / self.temperature\n",
    "        # Q: a list of [0, 1, 2, 3....] as labels? why? A: it's pairwise & symmetric, and only i=j should have the maximum likelihood.\n",
    "        labels = torch.arange(len(out0), device=out0.device)\n",
    "\n",
    "        loss_0 = self.lambda_0 * self.cross_entropy(logits, labels)\n",
    "        loss_1 = self.lambda_1 * self.cross_entropy(logits.T, labels)\n",
    "        loss = loss_0 + loss_1\n",
    "\n",
    "        return loss, logits"
   ]
  },
  {
   "cell_type": "code",
   "execution_count": 4,
   "metadata": {},
   "outputs": [],
   "source": [
    "clip = CLIPLoss(temperature=0.1, lambda_0=0.5)"
   ]
  },
  {
   "cell_type": "code",
   "execution_count": 5,
   "metadata": {},
   "outputs": [
    {
     "data": {
      "text/plain": [
       "[]"
      ]
     },
     "execution_count": 5,
     "metadata": {},
     "output_type": "execute_result"
    }
   ],
   "source": [
    "list(clip.parameters())"
   ]
  },
  {
   "cell_type": "code",
   "execution_count": null,
   "metadata": {},
   "outputs": [],
   "source": []
  }
 ],
 "metadata": {
  "kernelspec": {
   "display_name": "pytorch",
   "language": "python",
   "name": "python3"
  },
  "language_info": {
   "codemirror_mode": {
    "name": "ipython",
    "version": 3
   },
   "file_extension": ".py",
   "mimetype": "text/x-python",
   "name": "python",
   "nbconvert_exporter": "python",
   "pygments_lexer": "ipython3",
   "version": "3.9.18"
  }
 },
 "nbformat": 4,
 "nbformat_minor": 2
}
