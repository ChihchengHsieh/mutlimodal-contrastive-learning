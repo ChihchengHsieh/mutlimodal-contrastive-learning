{
 "cells": [
  {
   "cell_type": "code",
   "execution_count": 1,
   "metadata": {},
   "outputs": [],
   "source": [
    "import os\n",
    "import torch\n",
    "import ds.paths as d_path\n",
    "import torchvision\n",
    "\n",
    "from utils.init import reproducibility, clean_memory_get_device\n",
    "from config import ConfigArgs\n",
    "from utils.train import EarlyStopper, TrainingInfo, epoch_end_print, get_dataloaders, get_datasets, check_best, end_train, evaluate, train_one_epoch\n",
    "from torchvision.models import resnet18, ResNet18_Weights\n",
    "from utils.plot import plot_losses\n",
    "from IPython.display import clear_output\n",
    "from ds.reflacx.chexpert import REFLACXCheXpertDataset\n",
    "from ds.reflacx.lesion_detection import REFLACXLesionDetectionDataset\n",
    "from engine.classification import ClassificationEvaluator, load_cl_pretrained, resnet_set_trainable_layers\n",
    "from models.classification import MultiBinaryClassificationModel\n",
    "from utils.plot import plot_train\n",
    "\n",
    "import warnings\n",
    "import pandas as pd\n",
    "pd.options.mode.chained_assignment = None  # default='warn'\n",
    "warnings.filterwarnings(\"ignore\")"
   ]
  },
  {
   "cell_type": "code",
   "execution_count": 2,
   "metadata": {},
   "outputs": [
    {
     "name": "stdout",
     "output_type": "stream",
     "text": [
      "This notebook will running on device: [CUDA]\n",
      "|===========================================================================|\n",
      "|                  PyTorch CUDA memory summary, device ID 0                 |\n",
      "|---------------------------------------------------------------------------|\n",
      "|            CUDA OOMs: 0            |        cudaMalloc retries: 0         |\n",
      "|===========================================================================|\n",
      "|        Metric         | Cur Usage  | Peak Usage | Tot Alloc  | Tot Freed  |\n",
      "|---------------------------------------------------------------------------|\n",
      "| Allocated memory      |      0 B   |      0 B   |      0 B   |      0 B   |\n",
      "|       from large pool |      0 B   |      0 B   |      0 B   |      0 B   |\n",
      "|       from small pool |      0 B   |      0 B   |      0 B   |      0 B   |\n",
      "|---------------------------------------------------------------------------|\n",
      "| Active memory         |      0 B   |      0 B   |      0 B   |      0 B   |\n",
      "|       from large pool |      0 B   |      0 B   |      0 B   |      0 B   |\n",
      "|       from small pool |      0 B   |      0 B   |      0 B   |      0 B   |\n",
      "|---------------------------------------------------------------------------|\n",
      "| Requested memory      |      0 B   |      0 B   |      0 B   |      0 B   |\n",
      "|       from large pool |      0 B   |      0 B   |      0 B   |      0 B   |\n",
      "|       from small pool |      0 B   |      0 B   |      0 B   |      0 B   |\n",
      "|---------------------------------------------------------------------------|\n",
      "| GPU reserved memory   |      0 B   |      0 B   |      0 B   |      0 B   |\n",
      "|       from large pool |      0 B   |      0 B   |      0 B   |      0 B   |\n",
      "|       from small pool |      0 B   |      0 B   |      0 B   |      0 B   |\n",
      "|---------------------------------------------------------------------------|\n",
      "| Non-releasable memory |      0 B   |      0 B   |      0 B   |      0 B   |\n",
      "|       from large pool |      0 B   |      0 B   |      0 B   |      0 B   |\n",
      "|       from small pool |      0 B   |      0 B   |      0 B   |      0 B   |\n",
      "|---------------------------------------------------------------------------|\n",
      "| Allocations           |       0    |       0    |       0    |       0    |\n",
      "|       from large pool |       0    |       0    |       0    |       0    |\n",
      "|       from small pool |       0    |       0    |       0    |       0    |\n",
      "|---------------------------------------------------------------------------|\n",
      "| Active allocs         |       0    |       0    |       0    |       0    |\n",
      "|       from large pool |       0    |       0    |       0    |       0    |\n",
      "|       from small pool |       0    |       0    |       0    |       0    |\n",
      "|---------------------------------------------------------------------------|\n",
      "| GPU reserved segments |       0    |       0    |       0    |       0    |\n",
      "|       from large pool |       0    |       0    |       0    |       0    |\n",
      "|       from small pool |       0    |       0    |       0    |       0    |\n",
      "|---------------------------------------------------------------------------|\n",
      "| Non-releasable allocs |       0    |       0    |       0    |       0    |\n",
      "|       from large pool |       0    |       0    |       0    |       0    |\n",
      "|       from small pool |       0    |       0    |       0    |       0    |\n",
      "|---------------------------------------------------------------------------|\n",
      "| Oversize allocations  |       0    |       0    |       0    |       0    |\n",
      "|---------------------------------------------------------------------------|\n",
      "| Oversize GPU segments |       0    |       0    |       0    |       0    |\n",
      "|===========================================================================|\n",
      "\n"
     ]
    }
   ],
   "source": [
    "os.environ[\"PYTORCH_CUDA_ALLOC_CONF\"] = \"max_split_size_mb:256\"\n",
    "device = clean_memory_get_device()\n",
    "# device = torch.device(\"cpu\")\n",
    "reproducibility()\n",
    "if torch.cuda.is_available():\n",
    "    print(torch.cuda.memory_summary())"
   ]
  },
  {
   "cell_type": "code",
   "execution_count": 3,
   "metadata": {},
   "outputs": [],
   "source": [
    "image_size = 128\n",
    "batch_size = 32\n",
    "epochs = 50\n",
    "linear_eval = True"
   ]
  },
  {
   "cell_type": "code",
   "execution_count": 4,
   "metadata": {},
   "outputs": [
    {
     "data": {
      "text/plain": [
       "odict_keys(['backbone.net.conv1.weight', 'backbone.net.bn1.weight', 'backbone.net.bn1.bias', 'backbone.net.bn1.running_mean', 'backbone.net.bn1.running_var', 'backbone.net.bn1.num_batches_tracked', 'backbone.net.layer1.0.conv1.weight', 'backbone.net.layer1.0.bn1.weight', 'backbone.net.layer1.0.bn1.bias', 'backbone.net.layer1.0.bn1.running_mean', 'backbone.net.layer1.0.bn1.running_var', 'backbone.net.layer1.0.bn1.num_batches_tracked', 'backbone.net.layer1.0.conv2.weight', 'backbone.net.layer1.0.bn2.weight', 'backbone.net.layer1.0.bn2.bias', 'backbone.net.layer1.0.bn2.running_mean', 'backbone.net.layer1.0.bn2.running_var', 'backbone.net.layer1.0.bn2.num_batches_tracked', 'backbone.net.layer1.1.conv1.weight', 'backbone.net.layer1.1.bn1.weight', 'backbone.net.layer1.1.bn1.bias', 'backbone.net.layer1.1.bn1.running_mean', 'backbone.net.layer1.1.bn1.running_var', 'backbone.net.layer1.1.bn1.num_batches_tracked', 'backbone.net.layer1.1.conv2.weight', 'backbone.net.layer1.1.bn2.weight', 'backbone.net.layer1.1.bn2.bias', 'backbone.net.layer1.1.bn2.running_mean', 'backbone.net.layer1.1.bn2.running_var', 'backbone.net.layer1.1.bn2.num_batches_tracked', 'backbone.net.layer2.0.conv1.weight', 'backbone.net.layer2.0.bn1.weight', 'backbone.net.layer2.0.bn1.bias', 'backbone.net.layer2.0.bn1.running_mean', 'backbone.net.layer2.0.bn1.running_var', 'backbone.net.layer2.0.bn1.num_batches_tracked', 'backbone.net.layer2.0.conv2.weight', 'backbone.net.layer2.0.bn2.weight', 'backbone.net.layer2.0.bn2.bias', 'backbone.net.layer2.0.bn2.running_mean', 'backbone.net.layer2.0.bn2.running_var', 'backbone.net.layer2.0.bn2.num_batches_tracked', 'backbone.net.layer2.0.downsample.0.weight', 'backbone.net.layer2.0.downsample.1.weight', 'backbone.net.layer2.0.downsample.1.bias', 'backbone.net.layer2.0.downsample.1.running_mean', 'backbone.net.layer2.0.downsample.1.running_var', 'backbone.net.layer2.0.downsample.1.num_batches_tracked', 'backbone.net.layer2.1.conv1.weight', 'backbone.net.layer2.1.bn1.weight', 'backbone.net.layer2.1.bn1.bias', 'backbone.net.layer2.1.bn1.running_mean', 'backbone.net.layer2.1.bn1.running_var', 'backbone.net.layer2.1.bn1.num_batches_tracked', 'backbone.net.layer2.1.conv2.weight', 'backbone.net.layer2.1.bn2.weight', 'backbone.net.layer2.1.bn2.bias', 'backbone.net.layer2.1.bn2.running_mean', 'backbone.net.layer2.1.bn2.running_var', 'backbone.net.layer2.1.bn2.num_batches_tracked', 'backbone.net.layer3.0.conv1.weight', 'backbone.net.layer3.0.bn1.weight', 'backbone.net.layer3.0.bn1.bias', 'backbone.net.layer3.0.bn1.running_mean', 'backbone.net.layer3.0.bn1.running_var', 'backbone.net.layer3.0.bn1.num_batches_tracked', 'backbone.net.layer3.0.conv2.weight', 'backbone.net.layer3.0.bn2.weight', 'backbone.net.layer3.0.bn2.bias', 'backbone.net.layer3.0.bn2.running_mean', 'backbone.net.layer3.0.bn2.running_var', 'backbone.net.layer3.0.bn2.num_batches_tracked', 'backbone.net.layer3.0.downsample.0.weight', 'backbone.net.layer3.0.downsample.1.weight', 'backbone.net.layer3.0.downsample.1.bias', 'backbone.net.layer3.0.downsample.1.running_mean', 'backbone.net.layer3.0.downsample.1.running_var', 'backbone.net.layer3.0.downsample.1.num_batches_tracked', 'backbone.net.layer3.1.conv1.weight', 'backbone.net.layer3.1.bn1.weight', 'backbone.net.layer3.1.bn1.bias', 'backbone.net.layer3.1.bn1.running_mean', 'backbone.net.layer3.1.bn1.running_var', 'backbone.net.layer3.1.bn1.num_batches_tracked', 'backbone.net.layer3.1.conv2.weight', 'backbone.net.layer3.1.bn2.weight', 'backbone.net.layer3.1.bn2.bias', 'backbone.net.layer3.1.bn2.running_mean', 'backbone.net.layer3.1.bn2.running_var', 'backbone.net.layer3.1.bn2.num_batches_tracked', 'backbone.net.layer4.0.conv1.weight', 'backbone.net.layer4.0.bn1.weight', 'backbone.net.layer4.0.bn1.bias', 'backbone.net.layer4.0.bn1.running_mean', 'backbone.net.layer4.0.bn1.running_var', 'backbone.net.layer4.0.bn1.num_batches_tracked', 'backbone.net.layer4.0.conv2.weight', 'backbone.net.layer4.0.bn2.weight', 'backbone.net.layer4.0.bn2.bias', 'backbone.net.layer4.0.bn2.running_mean', 'backbone.net.layer4.0.bn2.running_var', 'backbone.net.layer4.0.bn2.num_batches_tracked', 'backbone.net.layer4.0.downsample.0.weight', 'backbone.net.layer4.0.downsample.1.weight', 'backbone.net.layer4.0.downsample.1.bias', 'backbone.net.layer4.0.downsample.1.running_mean', 'backbone.net.layer4.0.downsample.1.running_var', 'backbone.net.layer4.0.downsample.1.num_batches_tracked', 'backbone.net.layer4.1.conv1.weight', 'backbone.net.layer4.1.bn1.weight', 'backbone.net.layer4.1.bn1.bias', 'backbone.net.layer4.1.bn1.running_mean', 'backbone.net.layer4.1.bn1.running_var', 'backbone.net.layer4.1.bn1.num_batches_tracked', 'backbone.net.layer4.1.conv2.weight', 'backbone.net.layer4.1.bn2.weight', 'backbone.net.layer4.1.bn2.bias', 'backbone.net.layer4.1.bn2.running_mean', 'backbone.net.layer4.1.bn2.running_var', 'backbone.net.layer4.1.bn2.num_batches_tracked', 'backbone.net.fc.weight', 'backbone.net.fc.bias', 'projector.0.weight', 'projector.1.weight', 'projector.1.bias', 'projector.1.running_mean', 'projector.1.running_var', 'projector.1.num_batches_tracked', 'projector.3.weight', 'projector.4.weight', 'projector.4.bias', 'projector.4.running_mean', 'projector.4.running_var', 'projector.4.num_batches_tracked', 'projector.6.weight', 'bn.running_mean', 'bn.running_var', 'bn.num_batches_tracked'])"
      ]
     },
     "execution_count": 4,
     "metadata": {},
     "output_type": "execute_result"
    }
   ],
   "source": [
    "cl_model_name = \"twins\"\n",
    "cp = torch.load(\n",
    "    os.path.join(\"checkpoints\", cl_model_name, \"model\"), map_location=device\n",
    ")\n",
    "cp['model'].keys()"
   ]
  },
  {
   "cell_type": "code",
   "execution_count": 5,
   "metadata": {},
   "outputs": [],
   "source": [
    "from torch import nn\n",
    "from ds.reflacx.chexpert import REFLACXCheXpertDataset\n",
    "from utils.train import get_dataloader_g\n",
    "import torch.utils.data as data\n",
    "import math\n",
    "import numpy as np\n",
    "\n",
    "# load the model\n",
    "model = resnet18(weights=None)\n",
    "\n",
    "cl_model_name = \"twins\"\n",
    "\n",
    "train_d = data.DataLoader(\n",
    "    REFLACXCheXpertDataset(image_size=image_size, use_aug=False, split_str=\"train\"),\n",
    "    batch_size=batch_size,\n",
    "    shuffle=True,\n",
    "    collate_fn=None,\n",
    "    generator=get_dataloader_g(0),\n",
    "    drop_last=False,\n",
    ")\n",
    "\n",
    "\n",
    "# load weights into this backbone then apply fpn.\n",
    "\n",
    "cp = torch.load(\n",
    "    os.path.join(\"checkpoints\", cl_model_name, \"model\"), map_location=device\n",
    ")\n",
    "\n",
    "backbone_cp_dict = param_dict = {\n",
    "    k.replace(\"backbone.net.\", \"\"): v\n",
    "    for k, v in cp[\"model\"].items()\n",
    "    if k.startswith(\"backbone.net.\")\n",
    "}\n",
    "\n",
    "model.load_state_dict(backbone_cp_dict, strict=True)\n",
    "if linear_eval == True:\n",
    "    for param in model.parameters():\n",
    "        param.requires_grad_(False)\n",
    "\n",
    "model.fc = nn.Linear(\n",
    "    512,\n",
    "    train_d.dataset.num_classes(),\n",
    ")\n",
    "\n",
    "optimizer = torch.optim.AdamW(\n",
    "    params=[p for p in model.parameters() if p.requires_grad],\n",
    "    lr=3e-4,\n",
    ")\n",
    "\n",
    "scheduler = torch.optim.lr_scheduler.CosineAnnealingLR(\n",
    "    optimizer,\n",
    "    T_max=math.ceil(len(train_d.dataset) / batch_size)\n",
    "    * epochs,  # 286,817 is the size of the training dataset. (https://paperswithcode.com/dataset/cnn-daily-mail-1)\n",
    "    eta_min=1e-8,\n",
    ")"
   ]
  },
  {
   "cell_type": "code",
   "execution_count": 6,
   "metadata": {},
   "outputs": [],
   "source": [
    "criterion = nn.BCELoss()"
   ]
  },
  {
   "cell_type": "code",
   "execution_count": 7,
   "metadata": {},
   "outputs": [],
   "source": [
    "import torch.nn.functional as F\n",
    "\n",
    "def train_one_epoch(\n",
    "    model,\n",
    "    criterion,\n",
    "    optimizer,\n",
    "    dataloader,\n",
    "    device,\n",
    "    epoch,\n",
    "    max_norm=0,\n",
    "    lr_scheduler=None,\n",
    "):\n",
    "\n",
    "    model.to(device)\n",
    "    model.train()\n",
    "    iters = math.ceil(len(dataloader.dataset) / train_d.batch_size)\n",
    "    evaluator = ClassificationEvaluator()\n",
    "\n",
    "    if epoch == 0:\n",
    "        warmup_factor = 1.0 / 1000\n",
    "        warmup_iters = min(1000, iters - 1)\n",
    "        lr_scheduler = torch.optim.lr_scheduler.LinearLR(\n",
    "            optimizer, start_factor=warmup_factor, total_iters=warmup_iters\n",
    "        )\n",
    "\n",
    "    losses = []\n",
    "    for i, (x, y) in enumerate(dataloader):\n",
    "        output = model(x.to(device))\n",
    "        loss = criterion(F.sigmoid(output), y.to(device).float())\n",
    "        optimizer.zero_grad()\n",
    "        loss.backward()\n",
    "        if max_norm > 0:\n",
    "            torch.nn.utils.clip_grad_norm_(model.parameters(), max_norm)\n",
    "        optimizer.step()\n",
    "        evaluator.update(F.sigmoid(output), y)\n",
    "        \n",
    "        if lr_scheduler is not None:\n",
    "            if isinstance(\n",
    "                lr_scheduler, torch.optim.lr_scheduler.CosineAnnealingWarmRestarts\n",
    "            ):\n",
    "                lr_scheduler.step(epoch + i / iters)\n",
    "            else:\n",
    "                lr_scheduler.step()\n",
    "        losses.append(loss.item())\n",
    "    print(evaluator.gts)\n",
    "    print(evaluator.preds)\n",
    "    return (losses, evaluator.get_performance()[\"top-1-acc\"])"
   ]
  },
  {
   "cell_type": "markdown",
   "metadata": {},
   "source": []
  },
  {
   "cell_type": "code",
   "execution_count": 8,
   "metadata": {},
   "outputs": [
    {
     "data": {
      "image/png": "[encoded data removed]",
      "text/plain": [
       "<Figure size 800x400 with 1 Axes>"
      ]
     },
     "metadata": {},
     "output_type": "display_data"
    },
    {
     "data": {
      "image/png": "[encoded data removed]",
      "text/plain": [
       "<Figure size 800x400 with 1 Axes>"
      ]
     },
     "metadata": {},
     "output_type": "display_data"
    }
   ],
   "source": [
    "train_losses = []\n",
    "train_accs = []\n",
    "for epoch in range(epochs):\n",
    "    train_l, train_acc = train_one_epoch(\n",
    "        model,\n",
    "        criterion,\n",
    "        optimizer,\n",
    "        train_d,\n",
    "        device,\n",
    "        epoch,\n",
    "        max_norm=1,\n",
    "        lr_scheduler=scheduler,\n",
    "    )\n",
    "    train_losses.append(np.mean(train_l))\n",
    "    train_accs.append(train_acc)\n",
    "    clear_output()\n",
    "    plot_train(train_losses, title=\"Loss\")\n",
    "    plot_train(train_accs, title=\"Accuracy\")\n"
   ]
  },
  {
   "cell_type": "code",
   "execution_count": 9,
   "metadata": {},
   "outputs": [],
   "source": [
    "@torch.inference_mode()\n",
    "def evaluate(model, data_loader, device):\n",
    "    model.to(device)\n",
    "    model.eval()\n",
    "    evaluator = ClassificationEvaluator()\n",
    "    for _, (x,y) in enumerate(data_loader):\n",
    "        output = model(x.to(device))\n",
    "        evaluator.update(F.sigmoid(output), y)\n",
    "\n",
    "    return evaluator.get_performance()"
   ]
  },
  {
   "cell_type": "code",
   "execution_count": 10,
   "metadata": {},
   "outputs": [],
   "source": [
    "test_d = data.DataLoader(\n",
    "    REFLACXCheXpertDataset(image_size=image_size, use_aug=False, split_str=\"test\"),\n",
    "    batch_size=batch_size,\n",
    "    shuffle=True,\n",
    "    collate_fn=None,\n",
    "    generator=get_dataloader_g(0),\n",
    "    drop_last=False,\n",
    ")\n",
    "\n",
    "test_p = evaluate(\n",
    "            model=model,\n",
    "            data_loader=test_d,\n",
    "            device=device,\n",
    "        )"
   ]
  },
  {
   "cell_type": "code",
   "execution_count": 11,
   "metadata": {},
   "outputs": [
    {
     "data": {
      "text/plain": [
       "{'f1': 0.26548672566371684,\n",
       " 'precision': 0.5836575875486382,\n",
       " 'accuracy': 0.869701726844584,\n",
       " 'recall': 0.1718213058419244,\n",
       " 'auc': 0.5761780715129216,\n",
       " 'top-1-acc': tensor(0.8697)}"
      ]
     },
     "execution_count": 11,
     "metadata": {},
     "output_type": "execute_result"
    }
   ],
   "source": [
    "test_p"
   ]
  }
 ],
 "metadata": {
  "kernelspec": {
   "display_name": "pytorch",
   "language": "python",
   "name": "python3"
  },
  "language_info": {
   "codemirror_mode": {
    "name": "ipython",
    "version": 3
   },
   "file_extension": ".py",
   "mimetype": "text/x-python",
   "name": "python",
   "nbconvert_exporter": "python",
   "pygments_lexer": "ipython3",
   "version": "3.9.18"
  },
  "orig_nbformat": 4
 },
 "nbformat": 4,
 "nbformat_minor": 2
}
