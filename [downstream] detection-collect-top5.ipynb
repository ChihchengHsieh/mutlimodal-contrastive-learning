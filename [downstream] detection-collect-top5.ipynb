{
 "cells": [
  {
   "cell_type": "code",
   "execution_count": null,
   "metadata": {},
   "outputs": [],
   "source": [
    "# read the predictions from the algorithm.\n",
    "import os\n",
    "import pandas as pd\n",
    "import numpy as np\n",
    "import json\n",
    "from PIL import Image"
   ]
  },
  {
   "cell_type": "code",
   "execution_count": null,
   "metadata": {},
   "outputs": [],
   "source": [
    "    \n",
    "model_name = \"moco\"\n",
    "tune_mode = \"linear_eval\"\n",
    "model_df = pd.read_csv(\n",
    "        os.path.join(\n",
    "            \"detection_results\", f\"{model_name}_{tune_mode}_detection_preds.csv\"\n",
    "        )\n",
    "    )"
   ]
  },
  {
   "cell_type": "code",
   "execution_count": null,
   "metadata": {},
   "outputs": [],
   "source": [
    "reflacx_df = pd.read_csv('spreadsheets/reflacx_clinical.csv')"
   ]
  },
  {
   "cell_type": "code",
   "execution_count": null,
   "metadata": {},
   "outputs": [],
   "source": []
  },
  {
   "cell_type": "code",
   "execution_count": null,
   "metadata": {},
   "outputs": [],
   "source": [
    "all_healthy_dicom_id = set(list(reflacx_df[\n",
    "    (reflacx_df[\"No Finding_chexpert\"] == 1.0)\n",
    "    & (reflacx_df[\"No Finding_negbio\"] == 1.0)\n",
    "]['dicom_id']))"
   ]
  },
  {
   "cell_type": "code",
   "execution_count": null,
   "metadata": {},
   "outputs": [],
   "source": [
    "def is_in_heath_ids(image_path, healthy_ids):\n",
    "    dicom_id = os.path.basename(image_path).split(\".\")[0]\n",
    "    return dicom_id in healthy_ids"
   ]
  },
  {
   "cell_type": "code",
   "execution_count": null,
   "metadata": {},
   "outputs": [],
   "source": [
    "healthy_df = model_df[(model_df['gt_boxes']=='[]')&(model_df['image_path'].apply(lambda x: is_in_heath_ids(x, all_healthy_dicom_id)))]"
   ]
  },
  {
   "cell_type": "code",
   "execution_count": null,
   "metadata": {},
   "outputs": [],
   "source": [
    "# plot for each image.\n",
    "all_image_paths =set(list(healthy_df['image_path']))"
   ]
  },
  {
   "cell_type": "code",
   "execution_count": null,
   "metadata": {},
   "outputs": [],
   "source": []
  },
  {
   "cell_type": "code",
   "execution_count": null,
   "metadata": {},
   "outputs": [],
   "source": []
  },
  {
   "cell_type": "code",
   "execution_count": null,
   "metadata": {},
   "outputs": [],
   "source": []
  },
  {
   "cell_type": "code",
   "execution_count": null,
   "metadata": {},
   "outputs": [],
   "source": [
    "model_df[model_df['gt_boxes'].apply(lambda x: len(x)< 3)]"
   ]
  },
  {
   "cell_type": "code",
   "execution_count": null,
   "metadata": {},
   "outputs": [],
   "source": []
  },
  {
   "cell_type": "code",
   "execution_count": null,
   "metadata": {},
   "outputs": [],
   "source": []
  },
  {
   "cell_type": "code",
   "execution_count": null,
   "metadata": {},
   "outputs": [],
   "source": [
    "limited_lesion = True\n",
    "linear_eval = True\n",
    "image_size = 128\n",
    "batch_size = 4\n",
    "top_k_score = 5\n",
    "tune_mode = \"linear_eval\" if linear_eval else \"fine_tuned\""
   ]
  },
  {
   "cell_type": "code",
   "execution_count": null,
   "metadata": {},
   "outputs": [],
   "source": [
    "model_names = [\n",
    "    \"supervised\",\n",
    "    \"simsiam\",\n",
    "    \"byol\",\n",
    "    \"twins\",\n",
    "    \"moco\",\n",
    "    \"our_simclr\",\n",
    "    \"swav\",\n",
    "    \"our_improved_v4\",\n",
    "    \"our_improved_v4_without_auto\",\n",
    "    \"our_improved_v8\",\n",
    "]"
   ]
  },
  {
   "cell_type": "code",
   "execution_count": null,
   "metadata": {},
   "outputs": [],
   "source": [
    "from ds.reflacx.lesion_detection import REFLACXLesionDetectionDataset\n",
    "test_dataset = REFLACXLesionDetectionDataset(\n",
    "    image_size=image_size,\n",
    "    split_str=\"test\",\n",
    ")"
   ]
  },
  {
   "cell_type": "code",
   "execution_count": null,
   "metadata": {},
   "outputs": [],
   "source": []
  },
  {
   "cell_type": "code",
   "execution_count": null,
   "metadata": {},
   "outputs": [],
   "source": [
    "import torch\n",
    "import matplotlib.pyplot as plt\n",
    "from matplotlib.patches import Rectangle\n",
    "\n",
    "\n",
    "def plot_gt_on_img(\n",
    "    img,\n",
    "    boxes,\n",
    "    labels,\n",
    "    idx_to_lesion_fn,\n",
    "    img_size,\n",
    "    cmap={\n",
    "        \"Enlarged cardiac silhouette\": \"yellow\",\n",
    "        \"Atelectasis\": \"red\",\n",
    "        \"Pleural abnormality\": \"orange\",\n",
    "        \"Consolidation\": \"lightgreen\",\n",
    "        \"Pulmonary edema\": \"dodgerblue\",\n",
    "    },\n",
    "    limited_lesion=None,\n",
    "):\n",
    "    fig, ax = plt.subplots(\n",
    "        dpi=512,\n",
    "    )\n",
    "\n",
    "    plt.imshow(img, cmap=\"grey\")\n",
    "    width, height = img.size\n",
    "    width_factor = width / img_size\n",
    "    height_factor = height / img_size\n",
    "\n",
    "    for bbox, label in zip(\n",
    "        boxes,\n",
    "        labels,\n",
    "    ):\n",
    "        if limited_lesion and label != limited_lesion:\n",
    "            continue\n",
    "\n",
    "        disease = idx_to_lesion_fn(label)\n",
    "        c = cmap[disease]\n",
    "        ax.add_patch(\n",
    "            Rectangle(\n",
    "                (bbox[0] * width_factor, bbox[1] * height_factor),\n",
    "                (bbox[2] - bbox[0]) * width_factor,\n",
    "                (bbox[3] - bbox[1]) * height_factor,\n",
    "                fill=False,\n",
    "                color=c,\n",
    "                linewidth=2,\n",
    "            )\n",
    "        )\n",
    "        ax.text(\n",
    "            bbox[0] * width_factor,\n",
    "            bbox[1] * height_factor,\n",
    "            f\"{disease}\",\n",
    "            color=\"black\",\n",
    "            backgroundcolor=c,\n",
    "        )\n",
    "    return fig\n",
    "\n",
    "\n",
    "def plot_bboxes_on_img(\n",
    "    img: torch.tensor,\n",
    "    boxes,\n",
    "    labels,\n",
    "    scores,\n",
    "    idx_to_lesion_fn,\n",
    "    img_size,\n",
    "    cmap={\n",
    "        \"Enlarged cardiac silhouette\": \"yellow\",\n",
    "        \"Atelectasis\": \"red\",\n",
    "        \"Pleural abnormality\": \"orange\",\n",
    "        \"Consolidation\": \"lightgreen\",\n",
    "        \"Pulmonary edema\": \"dodgerblue\",\n",
    "    },\n",
    "):\n",
    "    fig, ax = plt.subplots(\n",
    "        dpi=512,\n",
    "    )\n",
    "\n",
    "    plt.imshow(img, cmap=\"grey\")\n",
    "    width, height = img.size\n",
    "    width_factor = width / img_size\n",
    "    height_factor = height / img_size\n",
    "\n",
    "    for bbox, label, score in zip(\n",
    "        boxes,\n",
    "        labels,\n",
    "        scores,\n",
    "    ):\n",
    "        # bbox = box_cxcywh_to_xyxy(torch.tensor(bbox * img_size)).numpy()\n",
    "        disease = idx_to_lesion_fn(label)\n",
    "        c = cmap[disease]\n",
    "        ax.add_patch(\n",
    "            Rectangle(\n",
    "                (bbox[0] * width_factor, bbox[1] * height_factor),\n",
    "                (bbox[2] - bbox[0]) * width_factor,\n",
    "                (bbox[3] - bbox[1]) * height_factor,\n",
    "                fill=False,\n",
    "                color=c,\n",
    "                linewidth=2,\n",
    "            )\n",
    "        )\n",
    "        ax.text(\n",
    "            bbox[0] * width_factor,\n",
    "            bbox[1] * height_factor,\n",
    "            f\"{disease}({score:.2f})\",\n",
    "            color=\"black\",\n",
    "            backgroundcolor=c,\n",
    "        )\n",
    "    return fig"
   ]
  },
  {
   "cell_type": "code",
   "execution_count": null,
   "metadata": {},
   "outputs": [],
   "source": [
    "model_name = model_names[0]\n",
    "\n",
    "model_df = pd.read_csv(\n",
    "        os.path.join(\n",
    "            \"detection_results\", f\"{model_name}_{tune_mode}_detection_preds.csv\"\n",
    "        )\n",
    "    )"
   ]
  },
  {
   "cell_type": "code",
   "execution_count": null,
   "metadata": {},
   "outputs": [],
   "source": []
  },
  {
   "cell_type": "code",
   "execution_count": null,
   "metadata": {},
   "outputs": [],
   "source": [
    "for model_name in model_names:\n",
    "    model_df = pd.read_csv(\n",
    "        os.path.join(\n",
    "            \"detection_results\", f\"{model_name}_{tune_mode}_detection_preds.csv\"\n",
    "        )\n",
    "    )\n",
    "    for l in range(1, 6):\n",
    "        sorted_lesion_df = model_df[model_df[\"label\"] == l].sort_values(\n",
    "            by=\"score\", ascending=False\n",
    "        )\n",
    "        if top_k_score:\n",
    "           sorted_lesion_df = sorted_lesion_df[:top_k_score]\n",
    "\n",
    "        l_name = test_dataset.idx_to_lesion(l)\n",
    "        saving_folder = os.path.join(\"detection_results\", model_name)\n",
    "        os.makedirs(saving_folder, exist_ok=True)\n",
    "        idx = 0\n",
    "        for _, instance in sorted_lesion_df.iterrows():\n",
    "            dicom_id = os.path.basename(instance['image_path']).split(\".\")[0]\n",
    "            idx += 1\n",
    "            x1, y1, x2, y2 = (\n",
    "                instance[\"x1\"],\n",
    "                instance[\"y1\"],\n",
    "                instance[\"x2\"],\n",
    "                instance[\"y2\"],\n",
    "            )\n",
    "            img = Image.open(instance[\"image_path\"])\n",
    "            fig = plot_bboxes_on_img(\n",
    "                img=img,\n",
    "                boxes=np.array([[x1, y1, x2, y2]]),\n",
    "                labels=np.array([instance[\"label\"]]),\n",
    "                scores=np.array([instance[\"score\"]]),\n",
    "                img_size=image_size,\n",
    "                idx_to_lesion_fn=test_dataset.idx_to_lesion,\n",
    "            )\n",
    "            fig.savefig(os.path.join(saving_folder, f\"{l_name}-{idx} [{dicom_id}].png\"))\n",
    "            gt_fig = plot_gt_on_img(\n",
    "                img=img,\n",
    "                boxes=np.array(json.loads(instance[\"gt_boxes\"])),\n",
    "                labels=np.array(json.loads(instance[\"gt_labels\"])),\n",
    "                img_size=image_size,\n",
    "                idx_to_lesion_fn=test_dataset.idx_to_lesion,\n",
    "                limited_lesion=l if limited_lesion else None,\n",
    "            )\n",
    "            gt_fig.savefig(os.path.join(saving_folder, f\"{l_name}-{idx} [{dicom_id}] (GT).png\"))\n",
    "            plt.cla()\n",
    "            plt.clf()\n",
    "            plt.close(\"all\")"
   ]
  },
  {
   "cell_type": "code",
   "execution_count": null,
   "metadata": {},
   "outputs": [],
   "source": []
  },
  {
   "cell_type": "code",
   "execution_count": null,
   "metadata": {},
   "outputs": [],
   "source": []
  }
 ],
 "metadata": {
  "kernelspec": {
   "display_name": "pytorch",
   "language": "python",
   "name": "python3"
  },
  "language_info": {
   "codemirror_mode": {
    "name": "ipython",
    "version": 3
   },
   "file_extension": ".py",
   "mimetype": "text/x-python",
   "name": "python",
   "nbconvert_exporter": "python",
   "pygments_lexer": "ipython3",
   "version": "3.9.18"
  }
 },
 "nbformat": 4,
 "nbformat_minor": 2
}
