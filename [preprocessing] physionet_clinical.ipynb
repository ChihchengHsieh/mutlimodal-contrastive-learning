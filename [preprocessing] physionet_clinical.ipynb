{
 "cells": [
  {
   "cell_type": "code",
   "execution_count": 1,
   "metadata": {},
   "outputs": [],
   "source": [
    "import os\n",
    "import pandas as pd\n",
    "from utils.preprocessing import get_split_list, checkMissingValue\n",
    "from utils.init import reproducibility\n",
    "from datasets import paths\n"
   ]
  },
  {
   "cell_type": "code",
   "execution_count": 2,
   "metadata": {},
   "outputs": [],
   "source": [
    "seed = 0\n",
    "reproducibility(0)"
   ]
  },
  {
   "cell_type": "code",
   "execution_count": 3,
   "metadata": {},
   "outputs": [],
   "source": [
    "cxr_meta_df = pd.read_csv(os.path.join('./spreadsheets/cxr_meta_stayId.csv'))"
   ]
  },
  {
   "cell_type": "code",
   "execution_count": 4,
   "metadata": {},
   "outputs": [],
   "source": [
    "PHYSIONET_PATH = os.path.join(paths.PHYSIONET_PATH, \"files\")\n",
    "CXR_JPG_FOLDER_PATH = os.path.join(PHYSIONET_PATH, \"mimic-cxr-jpg\", \"2.0.0\")\n",
    "MIMICIV_FOLDER_PATH = os.path.join(PHYSIONET_PATH, \"mimiciv\", \"2.0\")\n",
    "ED_FOLDER_PATH = os.path.join(PHYSIONET_PATH, \"mimic-iv-ed\", \"2.0\", \"ed\")\n",
    "HOSP_FOLDER_PATH = os.path.join(MIMICIV_FOLDER_PATH, \"hosp\")\n"
   ]
  },
  {
   "cell_type": "code",
   "execution_count": 5,
   "metadata": {},
   "outputs": [],
   "source": [
    "# load from physionet instead.\n",
    "negbio_df = pd.read_csv(  os.path.join(CXR_JPG_FOLDER_PATH, \"mimic-cxr-2.0.0-negbio.csv.gz\"))\n",
    "chexpert_df = pd.read_csv(  os.path.join(CXR_JPG_FOLDER_PATH ,\"mimic-cxr-2.0.0-chexpert.csv.gz\"))"
   ]
  },
  {
   "cell_type": "code",
   "execution_count": 6,
   "metadata": {},
   "outputs": [],
   "source": [
    "merged_df = cxr_meta_df.merge(negbio_df.add_suffix(\"_negbio\"), \"left\", left_on=\"study_id\", right_on=\"study_id_negbio\" \n",
    ")\n",
    "merged_df = merged_df.merge(chexpert_df.add_suffix(\"_chexpert\"), \"left\", left_on=\"study_id\", right_on=\"study_id_chexpert\",\n",
    ")"
   ]
  },
  {
   "cell_type": "code",
   "execution_count": 7,
   "metadata": {},
   "outputs": [],
   "source": [
    "for col in [ col for col in merged_df.columns if (col.endswith(\"_negbio\") or col.endswith(\"_chexpert\"))]:\n",
    "    merged_df[col] = merged_df[col].fillna(0)"
   ]
  },
  {
   "cell_type": "code",
   "execution_count": 8,
   "metadata": {},
   "outputs": [],
   "source": [
    "hosp_patients_df = pd.read_csv(os.path.join(HOSP_FOLDER_PATH, \"patients.csv.gz\"))\n",
    "ed_triage_df = pd.read_csv(os.path.join(ED_FOLDER_PATH, \"triage.csv.gz\"), index_col=False)"
   ]
  },
  {
   "cell_type": "code",
   "execution_count": 9,
   "metadata": {},
   "outputs": [],
   "source": [
    "merged_df = (\n",
    "    merged_df\n",
    "    .merge(hosp_patients_df, \"left\", on=\"subject_id\", suffixes=(\"\", \"_patient\"))\n",
    "    .merge(ed_triage_df, \"left\", on=\"stay_id\", suffixes=(\"\", \"_triage\"))\n",
    ")\n",
    "\n",
    "merged_df[\"age\"] = merged_df[\"anchor_age\"] + (\n",
    "    merged_df[\"StudyDate\"].apply(lambda x: int(str(x)[:4])) - merged_df[\"anchor_year\"]\n",
    ")"
   ]
  },
  {
   "cell_type": "code",
   "execution_count": 10,
   "metadata": {},
   "outputs": [],
   "source": [
    "clinical_cols = [\n",
    "    \"temperature\",\n",
    "    \"heartrate\",\n",
    "    \"resprate\",\n",
    "    \"o2sat\",\n",
    "    \"sbp\",\n",
    "    \"dbp\",\n",
    "    \"acuity\",\n",
    "    # \"chiefcomplaint\",\n",
    "    \"age\",\n",
    "]"
   ]
  },
  {
   "cell_type": "code",
   "execution_count": 11,
   "metadata": {},
   "outputs": [],
   "source": [
    "merged_df = merged_df.dropna(subset=clinical_cols)"
   ]
  },
  {
   "cell_type": "code",
   "execution_count": 12,
   "metadata": {},
   "outputs": [
    {
     "name": "stdout",
     "output_type": "stream",
     "text": [
      "[('PerformedProcedureStepDescription', 248), ('ViewCodeSequence_CodeMeaning', 1), ('PatientOrientationCodeSequence_CodeMeaning', 1531), ('dod', 48328), ('pain', 1217), ('chiefcomplaint', 1)]\n"
     ]
    }
   ],
   "source": [
    "checkMissingValue(merged_df)"
   ]
  },
  {
   "cell_type": "code",
   "execution_count": 13,
   "metadata": {},
   "outputs": [],
   "source": [
    "# create discrete values.\n",
    "merged_df =  merged_df[merged_df['temperature'] > 60] # remove the instance with irealistic temperature.\n",
    "merged_df =  merged_df[merged_df['o2sat'] <= 100] \n",
    "merged_df =  merged_df[merged_df['sbp'] <= 1000] \n",
    "merged_df =  merged_df[merged_df['dbp'] <= 10000]\n",
    " \n",
    "# create discrete values here\n",
    "\n",
    "def sbp_discrete_range(sbp):\n",
    "    if sbp >= 140:\n",
    "        return \">=140\"\n",
    "    elif sbp > 90:\n",
    "        return \"(90,140)\"\n",
    "    else:\n",
    "        return \"<=90\"\n",
    "    \n",
    "def dbp_discrete_range(dbp):\n",
    "    if dbp >= 90:\n",
    "        return '>=90'\n",
    "    elif dbp  > 60:\n",
    "        return '(60,90)'\n",
    "    else:\n",
    "        return \"<=60\"\n",
    "    \n",
    "def o2sat_discrete_range(o2sat):\n",
    "    if o2sat>=95:\n",
    "        return \">=95\"\n",
    "    elif o2sat>= 90:\n",
    "        return \"[90,95)\"\n",
    "    elif o2sat > 80:\n",
    "        return \"(80,90)\"\n",
    "    else:\n",
    "        return \"<=80\"\n",
    "    \n",
    "def resprate_discrete_range(resprate):\n",
    "    if resprate >= 18:\n",
    "        return \">=18\"\n",
    "    elif resprate >= 12:\n",
    "        return \"[12,18)\"\n",
    "    else:\n",
    "        return \"<12\"\n",
    "    \n",
    "def heartrate_discrete_range(heartrate):    \n",
    "    if heartrate >= 100:\n",
    "        return \">=100\"\n",
    "    elif heartrate >= 60:\n",
    "        return \"[60,100)\"\n",
    "    else:\n",
    "        return \"<60\"\n",
    "    \n",
    "def temperature_discrete_range(temperature):\n",
    "    if temperature >= 100.4:\n",
    "        return \">=100.4\"\n",
    "    elif temperature >= 99:\n",
    "        return \"[99,100.4)\"\n",
    "    elif temperature >= 97:\n",
    "        return \"[97,99)\"\n",
    "    else:\n",
    "        return \"<97\"\n",
    "\n",
    "def age_discrete_range(age):\n",
    "    if age >= 65:\n",
    "        return \">=65\"\n",
    "    else:\n",
    "        return \"<65\"\n",
    "    \n",
    "## replace all of them to be 1.\n",
    "merged_df['sbp_discrete'] = merged_df['sbp'].apply(lambda x: sbp_discrete_range(x)) \n",
    "merged_df['dbp_discrete'] = merged_df['dbp'].apply(lambda x: dbp_discrete_range(x)) \n",
    "merged_df['o2sat_discrete'] = merged_df['o2sat'].apply(lambda x: o2sat_discrete_range(x)) \n",
    "merged_df['resprate_discrete'] = merged_df['resprate'].apply(lambda x: resprate_discrete_range(x)) \n",
    "merged_df['heartrate_discrete'] = merged_df['heartrate'].apply(lambda x: heartrate_discrete_range(x)) \n",
    "merged_df['temperature_discrete'] = merged_df['temperature'].apply(lambda x: temperature_discrete_range(x)) \n",
    "merged_df['age_discrete'] = merged_df['age'].apply(lambda x: age_discrete_range(x)) \n",
    "merged_df[\"acuity_discrete\"] = merged_df['acuity'].apply(lambda x: str(x))"
   ]
  },
  {
   "cell_type": "code",
   "execution_count": 14,
   "metadata": {},
   "outputs": [
    {
     "name": "stdout",
     "output_type": "stream",
     "text": [
      "Have 67156 instances.\n",
      "For testing purpose, we shrink it down to 67156 instances.\n"
     ]
    }
   ],
   "source": [
    "# # before the split we keep only small amount.\n",
    "print(f\"Have {len(merged_df)} instances.\") \n",
    "\n",
    "# merged_df = merged_df.sample(n=1000, random_state=123) # using random state to ensure reproducibility.\n",
    "# print(f\"For testing purpose, we shrink it down to {len(merged_df)} instances.\")\n",
    "\n",
    "merged_df['split'] = get_split_list(len(merged_df), train_portion=0.9) # 70% training."
   ]
  },
  {
   "cell_type": "code",
   "execution_count": 16,
   "metadata": {},
   "outputs": [],
   "source": [
    "# Algin test cases\n",
    "\n",
    "reflacx_clinical_df = pd.read_csv(os.path.join('spreadsheets', 'reflacx_clinical.csv'))\n",
    "val_dicom_ids = list(reflacx_clinical_df[reflacx_clinical_df['split']== \"val\"]['dicom_id'])\n",
    "test_dicom_ids = list(reflacx_clinical_df[reflacx_clinical_df['split']== \"test\"]['dicom_id'])\n",
    "\n",
    "for val_id in val_dicom_ids:\n",
    "    idxs = merged_df[merged_df['dicom_id'] == val_id].index\n",
    "    for idx in idxs:\n",
    "        assert(merged_df.at[idx, 'dicom_id'] == val_id), \"assume to be the same dicom_id\"\n",
    "        merged_df.at[idx,'split'] = 'val'\n",
    "\n",
    "for val_id in test_dicom_ids:\n",
    "    idxs = merged_df[merged_df['dicom_id'] == val_id].index\n",
    "    for idx in idxs:\n",
    "        assert(merged_df.at[idx, 'dicom_id'] == val_id), \"assume to be the same dicom_id\"\n",
    "        merged_df.at[idx,'split'] = 'test'"
   ]
  },
  {
   "cell_type": "code",
   "execution_count": 18,
   "metadata": {},
   "outputs": [
    {
     "data": {
      "text/plain": [
       "train    60238\n",
       "test      3464\n",
       "val       3454\n",
       "Name: split, dtype: int64"
      ]
     },
     "execution_count": 18,
     "metadata": {},
     "output_type": "execute_result"
    }
   ],
   "source": [
    "merged_df['split'].value_counts()"
   ]
  },
  {
   "cell_type": "code",
   "execution_count": 17,
   "metadata": {},
   "outputs": [],
   "source": [
    "merged_df.to_csv(os.path.join(\"./spreadsheets\", \"physio_clinical.csv\"))"
   ]
  },
  {
   "cell_type": "code",
   "execution_count": null,
   "metadata": {},
   "outputs": [],
   "source": []
  },
  {
   "cell_type": "code",
   "execution_count": null,
   "metadata": {},
   "outputs": [],
   "source": []
  },
  {
   "cell_type": "code",
   "execution_count": null,
   "metadata": {},
   "outputs": [],
   "source": []
  }
 ],
 "metadata": {
  "kernelspec": {
   "display_name": "pytorch",
   "language": "python",
   "name": "python3"
  },
  "language_info": {
   "codemirror_mode": {
    "name": "ipython",
    "version": 3
   },
   "file_extension": ".py",
   "mimetype": "text/x-python",
   "name": "python",
   "nbconvert_exporter": "python",
   "pygments_lexer": "ipython3",
   "version": "3.9.16"
  },
  "orig_nbformat": 4
 },
 "nbformat": 4,
 "nbformat_minor": 2
}
